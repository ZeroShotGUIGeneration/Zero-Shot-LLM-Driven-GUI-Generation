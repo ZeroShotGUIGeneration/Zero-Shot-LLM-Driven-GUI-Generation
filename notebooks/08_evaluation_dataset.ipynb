{
 "cells": [
  {
   "cell_type": "code",
   "execution_count": 1,
   "id": "b447c5eb-aede-4618-be59-8e5ecc611fea",
   "metadata": {},
   "outputs": [],
   "source": [
    "from typing import Text, Generator, Tuple, List, Optional, Dict, Set\n",
    "import pandas as pd\n",
    "import numpy as np\n",
    "from ast import literal_eval\n",
    "import matplotlib.pyplot as plt\n",
    "import seaborn as sns\n",
    "import pickle\n",
    "import os\n",
    "import json\n",
    "import random\n",
    "import re\n",
    "import base64\n",
    "import ast\n",
    "import copy\n",
    "import uuid\n",
    "import imgkit\n",
    "from tabulate import tabulate\n",
    "sns.set_theme()\n",
    "\n",
    "config = imgkit.config(wkhtmltoimage='../wkhtmltopdf/bin/wkhtmltoimage.exe')\n",
    "\n",
    "pd.set_option('display.max_rows', 500)\n",
    "pd.set_option('display.max_columns', 500)\n",
    "pd.set_option('display.width', 5000)\n",
    "pd.set_option('display.max_colwidth', 5000)\n",
    "pd.options.display.float_format = '{:.2f}'.format"
   ]
  },
  {
   "cell_type": "markdown",
   "id": "f4c9539a-93bc-4efe-a348-772b33b1bd10",
   "metadata": {},
   "source": [
    "# 1. AWS Functions"
   ]
  },
  {
   "cell_type": "code",
   "execution_count": 218,
   "id": "8697bcd6-621b-480f-b766-a87bbcbd9b1a",
   "metadata": {},
   "outputs": [],
   "source": [
    "import base64\n",
    "import json\n",
    "import boto3\n",
    "from PIL import Image\n",
    "import io\n",
    "import uuid\n",
    "\n",
    "S3_CLIENT = boto3.client('s3')\n",
    "BUCKET_NAME = 'bucket_name'\n",
    "BASE_HTML_URL = \"base_url\"\n",
    "PLACEHOLDER_URL = \"placeholder\"\n",
    "\n",
    "def upload_html_to_s3(html_bytes_io, bucket_name, object_name):\n",
    "    S3_CLIENT.upload_fileobj(\n",
    "        html_bytes_io,\n",
    "        bucket_name,\n",
    "        object_name,\n",
    "        ExtraArgs={'ContentType': 'text/html'}\n",
    "    )\n",
    "\n",
    "def generate_link_and_upload(generated_html, row_name):\n",
    "    curr_uuid = str(uuid.uuid4())\n",
    "    curr_url =  BASE_HTML_URL.replace(PLACEHOLDER_URL, curr_uuid)\n",
    "    print('[{}]: Uploading UUID: {} | URL: {}'.format(row_name, curr_uuid, curr_url))\n",
    "    html_bytes_io = io.BytesIO(generated_html.encode('utf-8'))\n",
    "    upload_html_to_s3(html_bytes_io, BUCKET_NAME, curr_uuid + '.html')\n",
    "    return curr_uuid, curr_url"
   ]
  },
  {
   "cell_type": "code",
   "execution_count": 219,
   "id": "0f191840-6c33-476c-928d-167d30ff8453",
   "metadata": {},
   "outputs": [],
   "source": [
    "missing_html_tags = []"
   ]
  },
  {
   "cell_type": "code",
   "execution_count": 220,
   "id": "7591454d-a3f4-4db1-bfd7-45e973f1aa48",
   "metadata": {},
   "outputs": [],
   "source": [
    "def check_html(row):\n",
    "    html = row['generated_html']\n",
    "    if not'<!doctype html>' in html.strip().lower() or not '</html>' in html.strip().lower():\n",
    "        missing_html_tags.append((row['method_name'], row['RICO GUI']))"
   ]
  },
  {
   "cell_type": "markdown",
   "id": "74e07071-6ffd-4b65-88ce-d0c53614e0b7",
   "metadata": {},
   "source": [
    "# 1. Load Datasets"
   ]
  },
  {
   "cell_type": "code",
   "execution_count": 221,
   "id": "3d38da1c-75c6-4408-a115-09109f341391",
   "metadata": {},
   "outputs": [],
   "source": [
    "abs_path = '../data/generated/00_dataset_test/data/'"
   ]
  },
  {
   "cell_type": "code",
   "execution_count": 222,
   "id": "72162b65-ce06-4081-907d-cd07ce4640fe",
   "metadata": {},
   "outputs": [],
   "source": [
    "all_datasets = [\n",
    "    # 1. Load all baseline results\n",
    "    (1, '01_baselines_zs_instruction', abs_path+'01_baselines/zs_instruction.csv'),\n",
    "    (2, '01_baselines_zs_cot', abs_path+'01_baselines/zs_cot.csv'),\n",
    "    (3, '01_baselines_zs_cot_content', abs_path+'01_baselines/zs_cot_content.csv'),\n",
    "    # 2. Load all prompt decompositon results\n",
    "    (4, '02_prompt_decomposition_pd_zs', abs_path+'02_prompt_decomposition/pd_zs.csv'),\n",
    "    (5, '02_prompt_decomposition_pd_zs_cot', abs_path+'02_prompt_decomposition/pd_zs_cot.csv'),\n",
    "    (6, '02_prompt_decomposition_pd_zs_content', abs_path+'02_prompt_decomposition/pd_zs_content.csv'),\n",
    "    # 3. Load all the RAG results\n",
    "    (7, '03_rag_zs_k_1_direct', abs_path+'03_rag/rag_zs_k_1_direct.csv'),\n",
    "    (8, '03_rag_zs_k_3_direct', abs_path+'03_rag/rag_zs_k_3_direct.csv'),\n",
    "    (9, '03_rag_zs_k_5_direct', abs_path+'03_rag/rag_zs_k_5_direct.csv'),\n",
    "    (10, '03_rag_zs_k_7_direct', abs_path+'03_rag/rag_zs_k_7_direct.csv'),\n",
    "    # Rest of RAG results\n",
    "    (11, '03_rag_zs_k_3_direct_content', abs_path+'03_rag/rag_zs_k_3_direct_content.csv'),\n",
    "    (12, '03_rag_zs_k_3_direct_pd_zs', abs_path+'03_rag/rag_zs_k_3_direct_pd_zs.csv'),\n",
    "    (13, '03_rag_zs_k_3_feat_layout', abs_path+'03_rag/rag_zs_k_3_feat_layout.csv'),\n",
    "    # 4. Load all the self-critique results\n",
    "    (14, '04_self_critique_base_zs_instruction_k_1', abs_path+'04_self_critique/base_zs_instruction/prototype_v1.csv'),\n",
    "    (15, '04_self_critique_base_zs_instruction_k_2', abs_path+'04_self_critique/base_zs_instruction/prototype_v2.csv'),\n",
    "    (16, '04_self_critique_base_zs_instruction_k_3', abs_path+'04_self_critique/base_zs_instruction/prototype_v3.csv'),\n",
    "    (17, '04_self_critique_base_zs_instruction_k_4', abs_path+'04_self_critique/base_zs_instruction/prototype_v4.csv'),\n",
    "    # Rest of self-critique results\n",
    "    (18, '04_self_critique_base_zs_instruction_content_k_3', abs_path+'04_self_critique/base_zs_instruction_content/prototype_v3.csv'),\n",
    "    (19, '04_self_critique_base_pd_zs_k_3', abs_path+'04_self_critique/base_pd_zs/prototype_v3.csv'),\n",
    "    (20, '04_self_critique_base_rag_zs_k_3_direct_k_3', abs_path+'04_self_critique/base_rag_zs_k_3_direct/prototype_v3.csv'),\n",
    "]"
   ]
  },
  {
   "cell_type": "code",
   "execution_count": 223,
   "id": "695166a8-acee-4112-b4be-58036bc78589",
   "metadata": {},
   "outputs": [],
   "source": [
    "columns = ['RICO GUI', 'description', 'method_name', 'method_id', 'uuid', 'url']\n",
    "master_df = pd.DataFrame(columns=columns)"
   ]
  },
  {
   "cell_type": "code",
   "execution_count": null,
   "id": "4d257f72-d5dd-4c87-8d44-87f158db8df3",
   "metadata": {},
   "outputs": [],
   "source": [
    "for (idd, name, path) in all_datasets:\n",
    "    df_all = pd.read_csv(path)\n",
    "    df_simplified = df_all[['RICO GUI', 'description', 'generated_html']].copy()\n",
    "    df_simplified['method_name'] = name\n",
    "    df_simplified['method_id'] = idd\n",
    "    df_simplified.apply(check_html, axis=1)\n",
    "    df_simplified[['uuid', 'url']] = df_simplified.apply(lambda row: pd.Series(generate_link_and_upload(row['generated_html'], row.name)), axis=1)\n",
    "    df_simplified = df_simplified.drop(columns=['generated_html'])\n",
    "    master_df = pd.concat([master_df, df_simplified], ignore_index=True)"
   ]
  },
  {
   "cell_type": "code",
   "execution_count": 226,
   "id": "d8549e6f-df96-434a-b833-395e0bed069c",
   "metadata": {},
   "outputs": [],
   "source": [
    "master_df = master_df.sort_values(by=['RICO GUI', 'method_id'])\n",
    "master_df['key'] = range(1, len(master_df) + 1)\n",
    "master_df['key'] = master_df['key'].apply(lambda x: f\"{x:04}\")"
   ]
  },
  {
   "cell_type": "code",
   "execution_count": 227,
   "id": "c892e29b-56ed-4138-bc2b-3f7ab211e797",
   "metadata": {},
   "outputs": [],
   "source": [
    "master_df.to_csv('../data/evaluation_datasets/master_evaluation_table.csv', index=False)"
   ]
  }
 ],
 "metadata": {
  "kernelspec": {
   "display_name": "Python 3 (ipykernel)",
   "language": "python",
   "name": "python3"
  },
  "language_info": {
   "codemirror_mode": {
    "name": "ipython",
    "version": 3
   },
   "file_extension": ".py",
   "mimetype": "text/x-python",
   "name": "python",
   "nbconvert_exporter": "python",
   "pygments_lexer": "ipython3",
   "version": "3.8.19"
  }
 },
 "nbformat": 4,
 "nbformat_minor": 5
}
